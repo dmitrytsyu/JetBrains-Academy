{
  "nbformat": 4,
  "nbformat_minor": 0,
  "metadata": {
    "colab": {
      "name": "Rock-Paper-Scissors",
      "provenance": [],
      "collapsed_sections": [],
      "authorship_tag": "ABX9TyPpApOmXgeAnGZhIFzsDWol",
      "include_colab_link": true
    },
    "kernelspec": {
      "name": "python3",
      "display_name": "Python 3"
    }
  },
  "cells": [
    {
      "cell_type": "markdown",
      "metadata": {
        "id": "view-in-github",
        "colab_type": "text"
      },
      "source": [
        "<a href=\"https://colab.research.google.com/github/dmitrytsyu/JetBrains-Academy/blob/master/Rock_Paper_Scissors.ipynb\" target=\"_parent\"><img src=\"https://colab.research.google.com/assets/colab-badge.svg\" alt=\"Open In Colab\"/></a>"
      ]
    },
    {
      "cell_type": "markdown",
      "metadata": {
        "id": "y-zCSO7daB2B",
        "colab_type": "text"
      },
      "source": [
        "#Rock-Paper-Scissors"
      ]
    },
    {
      "cell_type": "markdown",
      "metadata": {
        "id": "nSEClKlVaKk9",
        "colab_type": "text"
      },
      "source": [
        "<b>Description:</b> If you’ve ever wanted to create games, this project will get you started! In this project you will code a Rock-Paper-Scissors-Lizard-Spock game, a more advanced version of Rock-Paper-Scissors, which can be played against the computer."
      ]
    },
    {
      "cell_type": "markdown",
      "metadata": {
        "id": "IIKzlz3ZYLg9",
        "colab_type": "text"
      },
      "source": [
        "But the game is really short so far: nobody plays just a single shot of rock-paper-scissors. We need to do some literally unstoppable game for unstoppable players. Not literally unstoppable, of course: let's implement a way to stop your program.\n",
        "\n",
        "Improve your program so it would take an unlimited number of inputs until the user enters `!exit`. After entering `!exit` the program should print `Bye!` and terminate. Also, let's try to handle invalid inputs: your program should be ready that there may be a typo in user's input, or that a user may just enter complete gibberish instead of a normal command. So, in case the input doesn't correspond to any known command (option name or `!exit`), your program should output the line `Invalid input`"
      ]
    },
    {
      "cell_type": "code",
      "metadata": {
        "id": "frY2k-nW70NA",
        "colab_type": "code",
        "colab": {
          "base_uri": "https://localhost:8080/",
          "height": 170
        },
        "outputId": "dbc14276-bc96-4faa-831d-17b1c0cf3cc3"
      },
      "source": [
        "# stage 2\n",
        "import random\n",
        "\n",
        "decision = ' '\n",
        "while decision != '!exit':\n",
        "    decision = input()\n",
        "    options = ['rock', 'scissors', 'paper']\n",
        "    if decision in options:\n",
        "        comp_decision = random.choice(options)\n",
        "\n",
        "        result = {'Win': 'Well done. Computer chose {} and failed',\n",
        "                'Lose': 'Sorry, but computer chose {}',\n",
        "                'Draw': 'There is a draw {}'}\n",
        "\n",
        "        if (decision == 'scissors' and comp_decision == 'paper') or (decision == 'paper' and comp_decision == 'rock') or (decision == 'rock' and comp_decision == 'scissors'):\n",
        "            word = 'Win'\n",
        "        elif (comp_decision == 'scissors' and decision == 'paper') or (comp_decision == 'paper' and decision == 'rock') or (comp_decision == 'rock' and decision == 'scissors'):\n",
        "            word = 'Lose'\n",
        "        else:\n",
        "            word = 'Draw'\n",
        "\n",
        "        print(result[word].format(comp_decision))\n",
        "    else:\n",
        "        print('Invalid input')\n",
        "\n",
        "print('Bye!')"
      ],
      "execution_count": null,
      "outputs": [
        {
          "output_type": "stream",
          "text": [
            "rock\n",
            "There is a draw rock\n",
            "s\n",
            "Invalid input\n",
            "!xit\n",
            "Invalid input\n",
            "!exit\n",
            "Invalid input\n",
            "Bye!\n"
          ],
          "name": "stdout"
        }
      ]
    },
    {
      "cell_type": "code",
      "metadata": {
        "id": "KsNORjR1EDc-",
        "colab_type": "code",
        "colab": {
          "base_uri": "https://localhost:8080/",
          "height": 579
        },
        "outputId": "614be7e6-818e-4424-9078-4aa19e7b7323"
      },
      "source": [
        "# stage 3\n",
        "import random\n",
        "name = input('Enter your name: ')\n",
        "print(f'Hello, {name}')\n",
        "\n",
        "\n",
        "decision = ' '\n",
        "while decision != '!exit':\n",
        "    decision = input()\n",
        "    options = ['rock', 'scissors', 'paper']\n",
        "    if decision in options:\n",
        "        comp_decision = random.choice(options)\n",
        "\n",
        "        result = {'Win': 'Well done. Computer chose {} and failed',\n",
        "                'Lose': 'Sorry, but computer chose {}',\n",
        "                'Draw': 'There is a draw {}'}\n",
        "\n",
        "        if (decision == 'scissors' and comp_decision == 'paper') or (decision == 'paper' and comp_decision == 'rock') or (decision == 'rock' and comp_decision == 'scissors'):\n",
        "            word = 'Win'\n",
        "        elif (comp_decision == 'scissors' and decision == 'paper') or (comp_decision == 'paper' and decision == 'rock') or (comp_decision == 'rock' and decision == 'scissors'):\n",
        "            word = 'Lose'\n",
        "        else:\n",
        "            word = 'Draw'\n",
        "\n",
        "        print(result[word].format(comp_decision))\n",
        "    elif decision == '!rating':\n",
        "\n",
        "    else:\n",
        "        print('Invalid input')\n",
        "\n",
        "print('Bye!')\n",
        "    "
      ],
      "execution_count": null,
      "outputs": [
        {
          "output_type": "stream",
          "text": [
            "Enter your name: Alex\n",
            "Hello, Alex\n",
            "0\n"
          ],
          "name": "stdout"
        },
        {
          "output_type": "error",
          "ename": "KeyboardInterrupt",
          "evalue": "ignored",
          "traceback": [
            "\u001b[0;31m---------------------------------------------------------------------------\u001b[0m",
            "\u001b[0;31mKeyboardInterrupt\u001b[0m                         Traceback (most recent call last)",
            "\u001b[0;32m/usr/local/lib/python3.6/dist-packages/ipykernel/kernelbase.py\u001b[0m in \u001b[0;36m_input_request\u001b[0;34m(self, prompt, ident, parent, password)\u001b[0m\n\u001b[1;32m    728\u001b[0m             \u001b[0;32mtry\u001b[0m\u001b[0;34m:\u001b[0m\u001b[0;34m\u001b[0m\u001b[0;34m\u001b[0m\u001b[0m\n\u001b[0;32m--> 729\u001b[0;31m                 \u001b[0mident\u001b[0m\u001b[0;34m,\u001b[0m \u001b[0mreply\u001b[0m \u001b[0;34m=\u001b[0m \u001b[0mself\u001b[0m\u001b[0;34m.\u001b[0m\u001b[0msession\u001b[0m\u001b[0;34m.\u001b[0m\u001b[0mrecv\u001b[0m\u001b[0;34m(\u001b[0m\u001b[0mself\u001b[0m\u001b[0;34m.\u001b[0m\u001b[0mstdin_socket\u001b[0m\u001b[0;34m,\u001b[0m \u001b[0;36m0\u001b[0m\u001b[0;34m)\u001b[0m\u001b[0;34m\u001b[0m\u001b[0;34m\u001b[0m\u001b[0m\n\u001b[0m\u001b[1;32m    730\u001b[0m             \u001b[0;32mexcept\u001b[0m \u001b[0mException\u001b[0m\u001b[0;34m:\u001b[0m\u001b[0;34m\u001b[0m\u001b[0;34m\u001b[0m\u001b[0m\n",
            "\u001b[0;32m/usr/local/lib/python3.6/dist-packages/jupyter_client/session.py\u001b[0m in \u001b[0;36mrecv\u001b[0;34m(self, socket, mode, content, copy)\u001b[0m\n\u001b[1;32m    802\u001b[0m         \u001b[0;32mtry\u001b[0m\u001b[0;34m:\u001b[0m\u001b[0;34m\u001b[0m\u001b[0;34m\u001b[0m\u001b[0m\n\u001b[0;32m--> 803\u001b[0;31m             \u001b[0mmsg_list\u001b[0m \u001b[0;34m=\u001b[0m \u001b[0msocket\u001b[0m\u001b[0;34m.\u001b[0m\u001b[0mrecv_multipart\u001b[0m\u001b[0;34m(\u001b[0m\u001b[0mmode\u001b[0m\u001b[0;34m,\u001b[0m \u001b[0mcopy\u001b[0m\u001b[0;34m=\u001b[0m\u001b[0mcopy\u001b[0m\u001b[0;34m)\u001b[0m\u001b[0;34m\u001b[0m\u001b[0;34m\u001b[0m\u001b[0m\n\u001b[0m\u001b[1;32m    804\u001b[0m         \u001b[0;32mexcept\u001b[0m \u001b[0mzmq\u001b[0m\u001b[0;34m.\u001b[0m\u001b[0mZMQError\u001b[0m \u001b[0;32mas\u001b[0m \u001b[0me\u001b[0m\u001b[0;34m:\u001b[0m\u001b[0;34m\u001b[0m\u001b[0;34m\u001b[0m\u001b[0m\n",
            "\u001b[0;32m/usr/local/lib/python3.6/dist-packages/zmq/sugar/socket.py\u001b[0m in \u001b[0;36mrecv_multipart\u001b[0;34m(self, flags, copy, track)\u001b[0m\n\u001b[1;32m    474\u001b[0m         \"\"\"\n\u001b[0;32m--> 475\u001b[0;31m         \u001b[0mparts\u001b[0m \u001b[0;34m=\u001b[0m \u001b[0;34m[\u001b[0m\u001b[0mself\u001b[0m\u001b[0;34m.\u001b[0m\u001b[0mrecv\u001b[0m\u001b[0;34m(\u001b[0m\u001b[0mflags\u001b[0m\u001b[0;34m,\u001b[0m \u001b[0mcopy\u001b[0m\u001b[0;34m=\u001b[0m\u001b[0mcopy\u001b[0m\u001b[0;34m,\u001b[0m \u001b[0mtrack\u001b[0m\u001b[0;34m=\u001b[0m\u001b[0mtrack\u001b[0m\u001b[0;34m)\u001b[0m\u001b[0;34m]\u001b[0m\u001b[0;34m\u001b[0m\u001b[0;34m\u001b[0m\u001b[0m\n\u001b[0m\u001b[1;32m    476\u001b[0m         \u001b[0;31m# have first part already, only loop while more to receive\u001b[0m\u001b[0;34m\u001b[0m\u001b[0;34m\u001b[0m\u001b[0;34m\u001b[0m\u001b[0m\n",
            "\u001b[0;32mzmq/backend/cython/socket.pyx\u001b[0m in \u001b[0;36mzmq.backend.cython.socket.Socket.recv\u001b[0;34m()\u001b[0m\n",
            "\u001b[0;32mzmq/backend/cython/socket.pyx\u001b[0m in \u001b[0;36mzmq.backend.cython.socket.Socket.recv\u001b[0;34m()\u001b[0m\n",
            "\u001b[0;32mzmq/backend/cython/socket.pyx\u001b[0m in \u001b[0;36mzmq.backend.cython.socket._recv_copy\u001b[0;34m()\u001b[0m\n",
            "\u001b[0;32m/usr/local/lib/python3.6/dist-packages/zmq/backend/cython/checkrc.pxd\u001b[0m in \u001b[0;36mzmq.backend.cython.checkrc._check_rc\u001b[0;34m()\u001b[0m\n",
            "\u001b[0;31mKeyboardInterrupt\u001b[0m: ",
            "\nDuring handling of the above exception, another exception occurred:\n",
            "\u001b[0;31mKeyboardInterrupt\u001b[0m                         Traceback (most recent call last)",
            "\u001b[0;32m<ipython-input-24-8c6c70e32bf7>\u001b[0m in \u001b[0;36m<module>\u001b[0;34m()\u001b[0m\n\u001b[1;32m     21\u001b[0m \u001b[0;32mwhile\u001b[0m \u001b[0mdecision\u001b[0m \u001b[0;34m!=\u001b[0m \u001b[0;34m'!exit'\u001b[0m\u001b[0;34m:\u001b[0m\u001b[0;34m\u001b[0m\u001b[0;34m\u001b[0m\u001b[0m\n\u001b[1;32m     22\u001b[0m     \u001b[0mprint\u001b[0m\u001b[0;34m(\u001b[0m\u001b[0mrating\u001b[0m\u001b[0;34m)\u001b[0m\u001b[0;34m\u001b[0m\u001b[0;34m\u001b[0m\u001b[0m\n\u001b[0;32m---> 23\u001b[0;31m     \u001b[0mdecision\u001b[0m \u001b[0;34m=\u001b[0m \u001b[0minput\u001b[0m\u001b[0;34m(\u001b[0m\u001b[0;34m)\u001b[0m\u001b[0;34m\u001b[0m\u001b[0;34m\u001b[0m\u001b[0m\n\u001b[0m\u001b[1;32m     24\u001b[0m     \u001b[0moptions\u001b[0m \u001b[0;34m=\u001b[0m \u001b[0;34m[\u001b[0m\u001b[0;34m'rock'\u001b[0m\u001b[0;34m,\u001b[0m \u001b[0;34m'scissors'\u001b[0m\u001b[0;34m,\u001b[0m \u001b[0;34m'paper'\u001b[0m\u001b[0;34m]\u001b[0m\u001b[0;34m\u001b[0m\u001b[0;34m\u001b[0m\u001b[0m\n\u001b[1;32m     25\u001b[0m     \u001b[0;32mif\u001b[0m \u001b[0mdecision\u001b[0m \u001b[0;32min\u001b[0m \u001b[0moptions\u001b[0m\u001b[0;34m:\u001b[0m\u001b[0;34m\u001b[0m\u001b[0;34m\u001b[0m\u001b[0m\n",
            "\u001b[0;32m/usr/local/lib/python3.6/dist-packages/ipykernel/kernelbase.py\u001b[0m in \u001b[0;36mraw_input\u001b[0;34m(self, prompt)\u001b[0m\n\u001b[1;32m    702\u001b[0m             \u001b[0mself\u001b[0m\u001b[0;34m.\u001b[0m\u001b[0m_parent_ident\u001b[0m\u001b[0;34m,\u001b[0m\u001b[0;34m\u001b[0m\u001b[0;34m\u001b[0m\u001b[0m\n\u001b[1;32m    703\u001b[0m             \u001b[0mself\u001b[0m\u001b[0;34m.\u001b[0m\u001b[0m_parent_header\u001b[0m\u001b[0;34m,\u001b[0m\u001b[0;34m\u001b[0m\u001b[0;34m\u001b[0m\u001b[0m\n\u001b[0;32m--> 704\u001b[0;31m             \u001b[0mpassword\u001b[0m\u001b[0;34m=\u001b[0m\u001b[0;32mFalse\u001b[0m\u001b[0;34m,\u001b[0m\u001b[0;34m\u001b[0m\u001b[0;34m\u001b[0m\u001b[0m\n\u001b[0m\u001b[1;32m    705\u001b[0m         )\n\u001b[1;32m    706\u001b[0m \u001b[0;34m\u001b[0m\u001b[0m\n",
            "\u001b[0;32m/usr/local/lib/python3.6/dist-packages/ipykernel/kernelbase.py\u001b[0m in \u001b[0;36m_input_request\u001b[0;34m(self, prompt, ident, parent, password)\u001b[0m\n\u001b[1;32m    732\u001b[0m             \u001b[0;32mexcept\u001b[0m \u001b[0mKeyboardInterrupt\u001b[0m\u001b[0;34m:\u001b[0m\u001b[0;34m\u001b[0m\u001b[0;34m\u001b[0m\u001b[0m\n\u001b[1;32m    733\u001b[0m                 \u001b[0;31m# re-raise KeyboardInterrupt, to truncate traceback\u001b[0m\u001b[0;34m\u001b[0m\u001b[0;34m\u001b[0m\u001b[0;34m\u001b[0m\u001b[0m\n\u001b[0;32m--> 734\u001b[0;31m                 \u001b[0;32mraise\u001b[0m \u001b[0mKeyboardInterrupt\u001b[0m\u001b[0;34m\u001b[0m\u001b[0;34m\u001b[0m\u001b[0m\n\u001b[0m\u001b[1;32m    735\u001b[0m             \u001b[0;32melse\u001b[0m\u001b[0;34m:\u001b[0m\u001b[0;34m\u001b[0m\u001b[0;34m\u001b[0m\u001b[0m\n\u001b[1;32m    736\u001b[0m                 \u001b[0;32mbreak\u001b[0m\u001b[0;34m\u001b[0m\u001b[0;34m\u001b[0m\u001b[0m\n",
            "\u001b[0;31mKeyboardInterrupt\u001b[0m: "
          ]
        }
      ]
    },
    {
      "cell_type": "markdown",
      "metadata": {
        "id": "dNd54H8eYkQV",
        "colab_type": "text"
      },
      "source": [
        "People love to see their results as they're running to their goal.\n",
        "So, let's learn how to show the user the score of the game.\n",
        "\n",
        "When the game starts, the user should enter his/her name. After that, the program should greet the user and read a file named `rating.txt` . This is a file containing current scores for different players. You can see the file format below: it's just lines containing user's name and his/her score divided by a single space.\n",
        "\n",
        "If there’s a record for the user with the same name in the file, the program should take his/her rating and use it as a reference point for counting current user’s score (for example, if the user entered name `Tim`, then his score at the start of the game will be 350). If the user's name isn't written in the file, then your program should count user's score from 0.\n",
        "\n",
        "You don't need to write anything in the `rating.txt` file!\n",
        "\n",
        "The program should print user's score when the user enters `!rating`. For example, if your rating is 0 then the program should print:"
      ]
    },
    {
      "cell_type": "code",
      "metadata": {
        "id": "s4b5owx8Z98N",
        "colab_type": "code",
        "colab": {}
      },
      "source": [
        "with open('rating.txt', 'w') as ratingfile:\n",
        "    ratingfile.write('Dima 0')"
      ],
      "execution_count": null,
      "outputs": []
    },
    {
      "cell_type": "code",
      "metadata": {
        "id": "JyXctGx0Ifuk",
        "colab_type": "code",
        "colab": {
          "base_uri": "https://localhost:8080/",
          "height": 596
        },
        "outputId": "5bdcd0d8-045e-47a2-ec24-e52bb117d54b"
      },
      "source": [
        "# stage 4\n",
        "import random\n",
        "\n",
        "name = input('Enter your name: ')\n",
        "print(f'Hello, {name}')\n",
        "\n",
        "with open('rating.txt', 'r') as rating_file:\n",
        "    ratings = {}\n",
        "    ratings_file = rating_file.readlines()\n",
        "    for user_rating in ratings_file:\n",
        "        user, rating = user_rating.split()\n",
        "        ratings[user] = rating\n",
        "\n",
        "\n",
        "if not ratings.get(name):\n",
        "    ratings[name] = 0\n",
        "\n",
        "rating = int(ratings[name])\n",
        "\n",
        "decision = ' '\n",
        "while decision != '!exit':\n",
        "    decision = input()\n",
        "    options = ['rock', 'scissors', 'paper']\n",
        "    if decision in options:\n",
        "        comp_decision = random.choice(options)\n",
        "\n",
        "        result = {'Win': 'Well done. Computer chose {} and failed',\n",
        "                'Lose': 'Sorry, but computer chose {}',\n",
        "                'Draw': 'There is a draw {}'}\n",
        "\n",
        "        if (decision == 'scissors' and comp_decision == 'paper') or (decision == 'paper' and comp_decision == 'rock') or (decision == 'rock' and comp_decision == 'scissors'):\n",
        "            word = 'Win'\n",
        "            rating += 100\n",
        "        elif (comp_decision == 'scissors' and decision == 'paper') or (comp_decision == 'paper' and decision == 'rock') or (comp_decision == 'rock' and decision == 'scissors'):\n",
        "            word = 'Lose'\n",
        "        else:\n",
        "            word = 'Draw'\n",
        "            rating += 50\n",
        "\n",
        "        print(result[word].format(comp_decision))\n",
        "    elif decision == '!rating':\n",
        "        print(rating)\n",
        "\n",
        "    else:\n",
        "        print('Invalid input')\n",
        "\n",
        "print('Bye!')\n",
        "    "
      ],
      "execution_count": null,
      "outputs": [
        {
          "output_type": "stream",
          "text": [
            "Hello, Dima\n",
            "Sorry, but computer chose paper\n",
            "There is a draw rock\n",
            "70\n"
          ],
          "name": "stdout"
        },
        {
          "output_type": "error",
          "ename": "KeyboardInterrupt",
          "evalue": "ignored",
          "traceback": [
            "\u001b[0;31m---------------------------------------------------------------------------\u001b[0m",
            "\u001b[0;31mKeyboardInterrupt\u001b[0m                         Traceback (most recent call last)",
            "\u001b[0;32m/usr/local/lib/python3.6/dist-packages/ipykernel/kernelbase.py\u001b[0m in \u001b[0;36m_input_request\u001b[0;34m(self, prompt, ident, parent, password)\u001b[0m\n\u001b[1;32m    728\u001b[0m             \u001b[0;32mtry\u001b[0m\u001b[0;34m:\u001b[0m\u001b[0;34m\u001b[0m\u001b[0;34m\u001b[0m\u001b[0m\n\u001b[0;32m--> 729\u001b[0;31m                 \u001b[0mident\u001b[0m\u001b[0;34m,\u001b[0m \u001b[0mreply\u001b[0m \u001b[0;34m=\u001b[0m \u001b[0mself\u001b[0m\u001b[0;34m.\u001b[0m\u001b[0msession\u001b[0m\u001b[0;34m.\u001b[0m\u001b[0mrecv\u001b[0m\u001b[0;34m(\u001b[0m\u001b[0mself\u001b[0m\u001b[0;34m.\u001b[0m\u001b[0mstdin_socket\u001b[0m\u001b[0;34m,\u001b[0m \u001b[0;36m0\u001b[0m\u001b[0;34m)\u001b[0m\u001b[0;34m\u001b[0m\u001b[0;34m\u001b[0m\u001b[0m\n\u001b[0m\u001b[1;32m    730\u001b[0m             \u001b[0;32mexcept\u001b[0m \u001b[0mException\u001b[0m\u001b[0;34m:\u001b[0m\u001b[0;34m\u001b[0m\u001b[0;34m\u001b[0m\u001b[0m\n",
            "\u001b[0;32m/usr/local/lib/python3.6/dist-packages/jupyter_client/session.py\u001b[0m in \u001b[0;36mrecv\u001b[0;34m(self, socket, mode, content, copy)\u001b[0m\n\u001b[1;32m    802\u001b[0m         \u001b[0;32mtry\u001b[0m\u001b[0;34m:\u001b[0m\u001b[0;34m\u001b[0m\u001b[0;34m\u001b[0m\u001b[0m\n\u001b[0;32m--> 803\u001b[0;31m             \u001b[0mmsg_list\u001b[0m \u001b[0;34m=\u001b[0m \u001b[0msocket\u001b[0m\u001b[0;34m.\u001b[0m\u001b[0mrecv_multipart\u001b[0m\u001b[0;34m(\u001b[0m\u001b[0mmode\u001b[0m\u001b[0;34m,\u001b[0m \u001b[0mcopy\u001b[0m\u001b[0;34m=\u001b[0m\u001b[0mcopy\u001b[0m\u001b[0;34m)\u001b[0m\u001b[0;34m\u001b[0m\u001b[0;34m\u001b[0m\u001b[0m\n\u001b[0m\u001b[1;32m    804\u001b[0m         \u001b[0;32mexcept\u001b[0m \u001b[0mzmq\u001b[0m\u001b[0;34m.\u001b[0m\u001b[0mZMQError\u001b[0m \u001b[0;32mas\u001b[0m \u001b[0me\u001b[0m\u001b[0;34m:\u001b[0m\u001b[0;34m\u001b[0m\u001b[0;34m\u001b[0m\u001b[0m\n",
            "\u001b[0;32m/usr/local/lib/python3.6/dist-packages/zmq/sugar/socket.py\u001b[0m in \u001b[0;36mrecv_multipart\u001b[0;34m(self, flags, copy, track)\u001b[0m\n\u001b[1;32m    474\u001b[0m         \"\"\"\n\u001b[0;32m--> 475\u001b[0;31m         \u001b[0mparts\u001b[0m \u001b[0;34m=\u001b[0m \u001b[0;34m[\u001b[0m\u001b[0mself\u001b[0m\u001b[0;34m.\u001b[0m\u001b[0mrecv\u001b[0m\u001b[0;34m(\u001b[0m\u001b[0mflags\u001b[0m\u001b[0;34m,\u001b[0m \u001b[0mcopy\u001b[0m\u001b[0;34m=\u001b[0m\u001b[0mcopy\u001b[0m\u001b[0;34m,\u001b[0m \u001b[0mtrack\u001b[0m\u001b[0;34m=\u001b[0m\u001b[0mtrack\u001b[0m\u001b[0;34m)\u001b[0m\u001b[0;34m]\u001b[0m\u001b[0;34m\u001b[0m\u001b[0;34m\u001b[0m\u001b[0m\n\u001b[0m\u001b[1;32m    476\u001b[0m         \u001b[0;31m# have first part already, only loop while more to receive\u001b[0m\u001b[0;34m\u001b[0m\u001b[0;34m\u001b[0m\u001b[0;34m\u001b[0m\u001b[0m\n",
            "\u001b[0;32mzmq/backend/cython/socket.pyx\u001b[0m in \u001b[0;36mzmq.backend.cython.socket.Socket.recv\u001b[0;34m()\u001b[0m\n",
            "\u001b[0;32mzmq/backend/cython/socket.pyx\u001b[0m in \u001b[0;36mzmq.backend.cython.socket.Socket.recv\u001b[0;34m()\u001b[0m\n",
            "\u001b[0;32mzmq/backend/cython/socket.pyx\u001b[0m in \u001b[0;36mzmq.backend.cython.socket._recv_copy\u001b[0;34m()\u001b[0m\n",
            "\u001b[0;32m/usr/local/lib/python3.6/dist-packages/zmq/backend/cython/checkrc.pxd\u001b[0m in \u001b[0;36mzmq.backend.cython.checkrc._check_rc\u001b[0;34m()\u001b[0m\n",
            "\u001b[0;31mKeyboardInterrupt\u001b[0m: ",
            "\nDuring handling of the above exception, another exception occurred:\n",
            "\u001b[0;31mKeyboardInterrupt\u001b[0m                         Traceback (most recent call last)",
            "\u001b[0;32m<ipython-input-28-638afe227660>\u001b[0m in \u001b[0;36m<module>\u001b[0;34m()\u001b[0m\n\u001b[1;32m     20\u001b[0m \u001b[0mdecision\u001b[0m \u001b[0;34m=\u001b[0m \u001b[0;34m' '\u001b[0m\u001b[0;34m\u001b[0m\u001b[0;34m\u001b[0m\u001b[0m\n\u001b[1;32m     21\u001b[0m \u001b[0;32mwhile\u001b[0m \u001b[0mdecision\u001b[0m \u001b[0;34m!=\u001b[0m \u001b[0;34m'!exit'\u001b[0m\u001b[0;34m:\u001b[0m\u001b[0;34m\u001b[0m\u001b[0;34m\u001b[0m\u001b[0m\n\u001b[0;32m---> 22\u001b[0;31m     \u001b[0mdecision\u001b[0m \u001b[0;34m=\u001b[0m \u001b[0minput\u001b[0m\u001b[0;34m(\u001b[0m\u001b[0;34m)\u001b[0m\u001b[0;34m\u001b[0m\u001b[0;34m\u001b[0m\u001b[0m\n\u001b[0m\u001b[1;32m     23\u001b[0m     \u001b[0moptions\u001b[0m \u001b[0;34m=\u001b[0m \u001b[0;34m[\u001b[0m\u001b[0;34m'rock'\u001b[0m\u001b[0;34m,\u001b[0m \u001b[0;34m'scissors'\u001b[0m\u001b[0;34m,\u001b[0m \u001b[0;34m'paper'\u001b[0m\u001b[0;34m]\u001b[0m\u001b[0;34m\u001b[0m\u001b[0;34m\u001b[0m\u001b[0m\n\u001b[1;32m     24\u001b[0m     \u001b[0;32mif\u001b[0m \u001b[0mdecision\u001b[0m \u001b[0;32min\u001b[0m \u001b[0moptions\u001b[0m\u001b[0;34m:\u001b[0m\u001b[0;34m\u001b[0m\u001b[0;34m\u001b[0m\u001b[0m\n",
            "\u001b[0;32m/usr/local/lib/python3.6/dist-packages/ipykernel/kernelbase.py\u001b[0m in \u001b[0;36mraw_input\u001b[0;34m(self, prompt)\u001b[0m\n\u001b[1;32m    702\u001b[0m             \u001b[0mself\u001b[0m\u001b[0;34m.\u001b[0m\u001b[0m_parent_ident\u001b[0m\u001b[0;34m,\u001b[0m\u001b[0;34m\u001b[0m\u001b[0;34m\u001b[0m\u001b[0m\n\u001b[1;32m    703\u001b[0m             \u001b[0mself\u001b[0m\u001b[0;34m.\u001b[0m\u001b[0m_parent_header\u001b[0m\u001b[0;34m,\u001b[0m\u001b[0;34m\u001b[0m\u001b[0;34m\u001b[0m\u001b[0m\n\u001b[0;32m--> 704\u001b[0;31m             \u001b[0mpassword\u001b[0m\u001b[0;34m=\u001b[0m\u001b[0;32mFalse\u001b[0m\u001b[0;34m,\u001b[0m\u001b[0;34m\u001b[0m\u001b[0;34m\u001b[0m\u001b[0m\n\u001b[0m\u001b[1;32m    705\u001b[0m         )\n\u001b[1;32m    706\u001b[0m \u001b[0;34m\u001b[0m\u001b[0m\n",
            "\u001b[0;32m/usr/local/lib/python3.6/dist-packages/ipykernel/kernelbase.py\u001b[0m in \u001b[0;36m_input_request\u001b[0;34m(self, prompt, ident, parent, password)\u001b[0m\n\u001b[1;32m    732\u001b[0m             \u001b[0;32mexcept\u001b[0m \u001b[0mKeyboardInterrupt\u001b[0m\u001b[0;34m:\u001b[0m\u001b[0;34m\u001b[0m\u001b[0;34m\u001b[0m\u001b[0m\n\u001b[1;32m    733\u001b[0m                 \u001b[0;31m# re-raise KeyboardInterrupt, to truncate traceback\u001b[0m\u001b[0;34m\u001b[0m\u001b[0;34m\u001b[0m\u001b[0;34m\u001b[0m\u001b[0m\n\u001b[0;32m--> 734\u001b[0;31m                 \u001b[0;32mraise\u001b[0m \u001b[0mKeyboardInterrupt\u001b[0m\u001b[0;34m\u001b[0m\u001b[0;34m\u001b[0m\u001b[0m\n\u001b[0m\u001b[1;32m    735\u001b[0m             \u001b[0;32melse\u001b[0m\u001b[0;34m:\u001b[0m\u001b[0;34m\u001b[0m\u001b[0;34m\u001b[0m\u001b[0m\n\u001b[1;32m    736\u001b[0m                 \u001b[0;32mbreak\u001b[0m\u001b[0;34m\u001b[0m\u001b[0;34m\u001b[0m\u001b[0m\n",
            "\u001b[0;31mKeyboardInterrupt\u001b[0m: "
          ]
        }
      ]
    },
    {
      "cell_type": "markdown",
      "metadata": {
        "id": "Q6s0L2uTYu6y",
        "colab_type": "text"
      },
      "source": [
        "How about some brand new rules? The original game has a fairly small choice of options.\n",
        "\n",
        "Extended versions of the game are decreasing the probability of draw, so it could be cool to play them.\n",
        "Now, your program should be able to accept alternative lists of options, like Rock, Paper, Scissors, Lizard, Spock, or even a list like this:\n",
        "\n",
        "![The rules of the game](http://1.bp.blogspot.com/_yF7MfoxOiU4/TUknEyds-hI/AAAAAAAAACA/IIddgqcx4OE/s1600/rockpaperscissors.jpg)\n",
        "\n",
        "---\n",
        "\n",
        "At this stage, before the start of the game, the user will be able to choose the options that will be used. After entering his/her name, the user should provide a list of options separated by a comma. For example,\n",
        "\n",
        "`rock,paper,scissors,lizard,spock`\n",
        "\n",
        "If the user inputs an empty line, your program should start the game with default options: rock. paper and scissors.\n",
        "\n",
        "After the game options are defined, your program should output `Okay, let's start`\n",
        "\n",
        "Whatever list of options the user chooses, your program, obviously, should be able to identify which option beats which, that is, the relationships between different options. First, every option is equal to itself (causing a draw if both user and computer choose the same option). Secondly, every option wins over one half of the other options of the list and gets defeated by another half. How to determine which options are stronger or weaker than the option you're currently looking at? Well, you can try to do it this way: take the list of options (provided by the user or the default one). Find the option for which you want to know its relationships with other options. Take all the options that follow this chosen option in the list. Add to them the list of options that precede the chosen option. Now you have another list of options that doesn't include the \"chosen\" option and has the different order of elements in it (first go the options following the chosen one in the original list, after them are the ones that precede it). So, in this \"new\" list, the first half of the options will be defeating the \"chosen\" option, and the second half will get beaten by it.\n",
        "\n",
        "For example, the user's list of options is `rock,paper,scissors,lizard,spock`. You want to know what options are weaker than `lizard`. By looking at the list `spock,rock,paper,scissors` you realize that `spock` and `rock` will be beating the `lizard`, and `paper` and `scissors` will get defeated by it. For `spock` it'll be almost the same, but it'll get beaten by `rock` and `paper`, and prevail over `scissors` and `lizard`. For the version of the game with 15 options, you can look at the picture above to understand the relationships between options.\n",
        "\n",
        "Of course, this is not the most efficient way to determine which option prevails over which. You are welcome to try to develop some other methods of tackling this problem."
      ]
    },
    {
      "cell_type": "code",
      "metadata": {
        "id": "oXGcjMVSO7Pg",
        "colab_type": "code",
        "colab": {
          "base_uri": "https://localhost:8080/",
          "height": 208
        },
        "outputId": "1843da32-8b58-4929-b5ac-5dac2aae330e"
      },
      "source": [
        "# final stage\n",
        "\n",
        "import random\n",
        "\n",
        "results = {'Win': 'Well done. Computer chose {} and failed',\n",
        "        'Lose': 'Sorry, but computer chose {}',\n",
        "        'Draw': 'There is a draw {}'}\n",
        "    \n",
        "rating_points = {'Win': 100, 'Lose':0, 'Draw': 50}\n",
        "\n",
        "name = input('Enter your name: ')\n",
        "print(f'Hello, {name}')\n",
        "\n",
        "with open('rating.txt', 'r') as rating_file:\n",
        "    ratings = {}\n",
        "    ratings_file = rating_file.readlines()\n",
        "    for user_rating in ratings_file:\n",
        "        user, rating = user_rating.split()\n",
        "        ratings[user] = rating\n",
        "\n",
        "if not ratings.get(name):\n",
        "    ratings[name] = 0\n",
        "\n",
        "rating = int(ratings[name])\n",
        "\n",
        "options = input()\n",
        "\n",
        "if options == '':\n",
        "    options = ['rock',  'paper', 'scissors']\n",
        "else:\n",
        "    options = options.split(',')\n",
        "\n",
        "print(\"Okay, let's start\")\n",
        "\n",
        "while True:\n",
        "    decision = input()\n",
        "    \n",
        "    if decision in options:\n",
        "        comp_decision = random.choice(options)\n",
        "        new_options = options[options.index(decision)+1:] + options[:options.index(decision)]\n",
        "\n",
        "        if comp_decision in new_options[len(new_options) // 2:]:\n",
        "            result = 'Win'\n",
        "        elif comp_decision in new_options[:len(new_options) // 2]:\n",
        "            result = 'Lose'\n",
        "        else:\n",
        "            result = 'Draw'\n",
        "        rating += rating_points[result]\n",
        "        print(results[result].format(comp_decision))\n",
        "    elif decision == '!rating':\n",
        "        print(rating)\n",
        "    elif decision == '!exit':\n",
        "        print('Bye!')\n",
        "        break\n",
        "    else:\n",
        "        print('Invalid input')"
      ],
      "execution_count": null,
      "outputs": [
        {
          "output_type": "stream",
          "text": [
            "Enter your name: Dima\n",
            "Hello, Dima\n",
            "\n",
            "Okay, let's start\n",
            "rock\n",
            "Well done. Computer chose scissors and failed\n",
            "rock\n",
            "Sorry, but computer chose paper\n",
            "!rating\n",
            "100\n"
          ],
          "name": "stdout"
        }
      ]
    }
  ]
}